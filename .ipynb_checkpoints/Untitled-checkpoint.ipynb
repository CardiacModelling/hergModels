{
 "cells": [
  {
   "cell_type": "code",
   "execution_count": 33,
   "metadata": {
    "collapsed": false
   },
   "outputs": [],
   "source": [
    "from __future__ import print_function\n",
    "import numpy as np\n",
    "import matplotlib.pyplot as plt\n",
    "from scipy.integrate import odeint\n",
    "%matplotlib inline\n",
    "\n",
    "import pints\n",
    "\n",
    "class LinearModel(pints.ForwardModel):\n",
    "    \n",
    "    def simulate(self, parameters, times):\n",
    "        \n",
    "        y = parameters[0] + parameters[1]*times\n",
    "        return y.reshape(times.shape)\n",
    "    \n",
    "    def n_parameters(self):\n",
    "        # Return the dimension of the parameter vector\n",
    "        return 2\n",
    "\n",
    "class PolyModel(pints.ForwardModel):\n",
    "    \n",
    "    def simulate(self, parameters, times):\n",
    "        \n",
    "        y = parameters[0] + parameters[1]*times**2\n",
    "        return y.reshape(times.shape)\n",
    "    \n",
    "    def n_parameters(self):\n",
    "        # Return the dimension of the parameter vector\n",
    "        return 2\n",
    "# Then create an instance of our new model class\n",
    "model_1 = LinearModel()\n",
    "model_2 = PolyModel()"
   ]
  },
  {
   "cell_type": "code",
   "execution_count": 34,
   "metadata": {
    "collapsed": false
   },
   "outputs": [
    {
     "data": {
      "image/png": "[encoded data removed]",
      "text/plain": [
       "<matplotlib.figure.Figure at 0x7f07d6bbd190>"
      ]
     },
     "metadata": {},
     "output_type": "display_data"
    }
   ],
   "source": [
    "true_parameters = [5, 3]\n",
    "times = np.linspace(0, 1, 100)\n",
    "# Run a simulation to get test data\n",
    "values = model_1.simulate(true_parameters, times)\n",
    "\n",
    "# Add some noise\n",
    "values += np.random.normal(0, 0.05, values.shape)\n",
    "\n",
    "# Plot the results\n",
    "plt.figure()\n",
    "plt.xlabel('Time')\n",
    "plt.ylabel('Concentration')\n",
    "plt.plot(times, values)\n",
    "plt.show()"
   ]
  },
  {
   "cell_type": "code",
   "execution_count": 35,
   "metadata": {
    "collapsed": false
   },
   "outputs": [],
   "source": [
    "problem_1 = pints.SingleOutputProblem(model_1, times, values)\n",
    "problem_2 = pints.SingleOutputProblem(model_2, times, values)"
   ]
  },
  {
   "cell_type": "code",
   "execution_count": 37,
   "metadata": {
    "collapsed": false
   },
   "outputs": [],
   "source": [
    "sigma_noise = 0.05\n",
    "log_likelihood_1 = pints.KnownNoiseLogLikelihood(problem_1, sigma_noise)\n",
    "log_likelihood_2 = pints.KnownNoiseLogLikelihood(problem_2, sigma_noise)\n",
    "log_prior = pints.UniformLogPrior(\n",
    "    [0.01, 0.01],\n",
    "    [10.0, 8.0]\n",
    ")\n",
    "log_posterior_1 = pints.LogPosterior(log_likelihood_1, log_prior)\n",
    "log_posterior_2 = pints.LogPosterior(log_likelihood_2, log_prior)"
   ]
  },
  {
   "cell_type": "code",
   "execution_count": null,
   "metadata": {
    "collapsed": true
   },
   "outputs": [],
   "source": [
    "nchains = 1\n",
    "mcmc = pints.MCMCSampling(log_posterior, nchains, x0, method=pints.PopulationMCMC)\n",
    "#mcmc.set_log_to_file('log.txt')\n",
    "mcmc.set_log_to_screen(True)\n",
    "mcmc.set_max_iterations(10000)\n",
    "mcmc.set_parallel(False)\n",
    "\n",
    "\n",
    "# Run\n",
    "with np.errstate(all='ignore'):\n",
    "    chains = mcmc.run()"
   ]
  }
 ],
 "metadata": {
  "kernelspec": {
   "display_name": "Python 2",
   "language": "python",
   "name": "python2"
  },
  "language_info": {
   "codemirror_mode": {
    "name": "ipython",
    "version": 2
   },
   "file_extension": ".py",
   "mimetype": "text/x-python",
   "name": "python",
   "nbconvert_exporter": "python",
   "pygments_lexer": "ipython2",
   "version": "2.7.6"
  }
 },
 "nbformat": 4,
 "nbformat_minor": 0
}
