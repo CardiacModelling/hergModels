{
 "cells": [
  {
   "cell_type": "code",
   "execution_count": 1,
   "metadata": {
    "collapsed": false,
    "nbpresent": {
     "id": "c4994e37-82e1-411e-a9b3-e4b3adc6d150"
    }
   },
   "outputs": [],
   "source": [
    "from scipy.integrate import odeint\n",
    "import scipy.stats as ss\n",
    "import math \n",
    "import numpy as np\n",
    "import matplotlib.pyplot as plt\n",
    "import theano\n",
    "%matplotlib inline\n",
    "\n",
    "theano.config.compute_test_value = 'raise'\n",
    "theano.config.exception_verbosity= 'high'\n",
    "THEANO_FLAGS='floatX=float64,optimizer=fast_compile'"
   ]
  },
  {
   "cell_type": "markdown",
   "metadata": {
    "nbpresent": {
     "id": "e9bb1442-6c80-4c0e-a51a-c8056f86cfdc"
    }
   },
   "source": [
    "#  Fitzhugh Nagumo model in oscillatory mode\n",
    "In this example we will use PyMC3 to infer the parameters of the Fitzhugh-Nagumo oscillator. It is a simple model that \n",
    "generates action potentials. The model is describes as:\n",
    "\n",
    "\\begin{align}\n",
    "\\frac{dV}{dt}&=(V - \\frac{V^3}{3} + R)c\\\\\n",
    "\\frac{dR}{dt}&=\\frac{-(V-a+bR)}{c},\n",
    "\\end{align}\n",
    "where $a$, $b$, $c$ are the model parameters.\n",
    "\n",
    "We start by defining our ODE solver. In this case we will be using scipy odeint. However, note that we can also wrapp any other solver written in say C++. The point I am trying to drive home is that we are free to call up any model solver as long as it is available in python."
   ]
  },
  {
   "cell_type": "code",
   "execution_count": null,
   "metadata": {
    "collapsed": true,
    "nbpresent": {
     "id": "31966a2e-d810-4fce-ab2e-1d52720d4680"
    }
   },
   "outputs": [],
   "source": [
    "def model_deriv(y, t, param):\n",
    "    #Define parameters\n",
    "    a,b,c=param\n",
    "    \n",
    "    #define states\n",
    "    V,R=y\n",
    "    #define derivatives\n",
    "    dV_dt=(V-((V**3)/3) +R)*c\n",
    "    dR_dt=-(V+b*R)/c\n",
    "    return dV_dt,dR_dt\n",
    "    \n",
    "def model_sol(param):\n",
    "    \n",
    "    y0 = [-1,1]\n",
    "    time = np.linspace(0, 20, 250)\n",
    "    solution = odeint(model_deriv, y0, time, args=(param,))\n",
    "    return np.array(solution)"
   ]
  },
  {
   "cell_type": "markdown",
   "metadata": {
    "nbpresent": {
     "id": "767edfc9-440c-4e99-82e3-a54b146e70ef"
    }
   },
   "source": [
    "#  Generate an artificial dataset\n",
    "\n",
    "Having defined our model solver and forward solution, we can generate some synthetic data. We solve the model between [0,20] with 200 equispaced time points and add Gaussian noise with $\\sigma=0.5$."
   ]
  },
  {
   "cell_type": "code",
   "execution_count": null,
   "metadata": {
    "collapsed": false,
    "nbpresent": {
     "id": "ee4546cc-3955-42ed-988b-7f9336a34b78"
    }
   },
   "outputs": [],
   "source": [
    "times = np.linspace(0, 20, 250)\n",
    "sigma=0.5\n",
    "sol=model_sol([0.2,0.2,3.])\n",
    "Y=sol+np.random.randn(250,2)*sigma\n",
    "plt.figure(figsize=(15, 7.5))\n",
    "plt.plot(times, sol, '-', color='#ff7f0e', lw=4, label='original values')\n",
    "plt.plot(times, Y, 'o', color='#7f7f7f', ms=6.5, label='data points')\n",
    "plt.legend()\n",
    "plt.xlabel('Time')\n",
    "plt.ylabel('Value')"
   ]
  },
  {
   "cell_type": "markdown",
   "metadata": {
    "nbpresent": {
     "id": "f1b8d12a-ef98-4869-8f75-764d07d774fd"
    }
   },
   "source": [
    "#  Define a black-box op using Theano @as_op\n",
    "\n",
    "This is perhaps the most important pat of this example. Here we are defining a custom Theano as_op. Note that we are \n",
    "wrapping up the forward solution of our model as an as_op. Thus we tell Theano that we have three parameters each \n",
    "being a Theano scalar. The output then is a Theano matrix whose colums are the state vectors."
   ]
  },
  {
   "cell_type": "code",
   "execution_count": null,
   "metadata": {
    "collapsed": true,
    "nbpresent": {
     "id": "110c285c-2990-4216-af81-d7022cd6c408"
    }
   },
   "outputs": [],
   "source": [
    "import theano.tensor as tt\n",
    "from theano.compile.ops import as_op\n",
    "\n",
    "#@as_op(itypes=[tt.dscalar,tt.dscalar,tt.dscalar], otypes=[tt.dmatrix])\n",
    "@as_op(itypes=[tt.dvector], otypes=[tt.dmatrix])\n",
    "def Fitzhugh_ode_sol(param):\n",
    "    \n",
    "    #param=[param1,param2,param3]\n",
    "    sol=model_sol(param)\n",
    "    \n",
    "    return sol\n"
   ]
  },
  {
   "cell_type": "markdown",
   "metadata": {
    "nbpresent": {
     "id": "edeeb07c-1714-4853-94da-1b7e240bea18"
    }
   },
   "source": [
    "#  The probabilistic model: A lego approach\n",
    "\n",
    "Next we define the probabilistic program. The likelihood is a multivariate Normal distribution. The priors are set as follows:\n",
    "$a\\sim \\mathcal{\\Gamma}(2,1)$, $b\\sim \\mathcal{N}(0,1)$ and $c\\sim \\mathcal{U}(0,10)$. In this example we will be estimating the noise standard deviation and thus we put the following prior: $\\sigma\\sim \\mathcal{N}(0,1)$. "
   ]
  },
  {
   "cell_type": "code",
   "execution_count": null,
   "metadata": {
    "collapsed": false
   },
   "outputs": [],
   "source": [
    "import pymc3 as pm\n",
    "import theano.tensor as tt\n",
    "from pymc3.theanof import floatX\n",
    "\n",
    "class Unit(pm.Continuous):\n",
    "    def __init__(self, lower, upper, *args, **kwargs):\n",
    "        super(Unit, self).__init__(*args, **kwargs)\n",
    "        self.lower = lower = tt.as_tensor_variable(floatX(lower))\n",
    "        self.upper = upper = tt.as_tensor_variable(floatX(upper))\n",
    "        self.mean = (upper + lower) / 2.\n",
    "        self.median = self.mean\n",
    "\n",
    "    def random(self, point=None, size=None, repeat=None):\n",
    "        r=pm.Uniform.dist(lower=self.lower,upper=self.upper)\n",
    "        return r.random(size=size)\n",
    "    def logp(self, value):\n",
    "        lower = self.lower\n",
    "        upper = self.upper\n",
    "        lt = tt.as_tensor_variable(floatX(2.9))\n",
    "        gt = tt.as_tensor_variable(floatX(2.05))\n",
    "        r=pm.Uniform.dist(lower=lower,upper=upper)\n",
    "        lp = r.logp(value)\n",
    "        outside = tt.as_tensor_variable(floatX(-np.inf))\n",
    "        cond = tt.and_(tt.gt(value,gt),tt.lt(value,lt))\n",
    "        return tt.switch(cond, lp, outside)"
   ]
  },
  {
   "cell_type": "code",
   "execution_count": null,
   "metadata": {
    "collapsed": false
   },
   "outputs": [],
   "source": [
    "@as_op(itypes=[tt.dscalar,tt.dscalar,tt.dscalar], otypes=[tt.dmatrix])\n",
    "def randsample(lower,upper,samples):\n",
    "    print(ss.uniform(lower,upper).rvs(int(samples)).shape)\n",
    "    s1=ss.uniform(lower,upper).rvs(int(samples))\n",
    "    s2=ss.uniform(lower,upper).rvs(int(samples))\n",
    "    s3=ss.uniform(lower,upper).rvs(int(samples))\n",
    "    sam=np.array([s1,s2,s3])\n",
    "    return sam.T\n",
    "\n",
    "@as_op(itypes=[tt.dscalar,tt.dscalar,tt.dvector], otypes=[tt.dvector])\n",
    "def log_p(lower,upper,value):\n",
    "    \n",
    "    #lp = np.sum(ss.uniform(lower,upper).logpdf(value))\n",
    "    return ss.uniform(lower,upper).logpdf(value)\n",
    "\n",
    "class UnitMulti(pm.Continuous):\n",
    "    def __init__(self, lower, upper, *args, **kwargs):\n",
    "        super(UnitMulti, self).__init__(*args, **kwargs)\n",
    "        self.lower = lower = tt.as_tensor_variable(floatX(lower))\n",
    "        self.upper = upper = tt.as_tensor_variable(floatX(upper))\n",
    "        self.mean = (upper + lower) / 2.\n",
    "        self.median = self.mean\n",
    "\n",
    "    def random(self, point=None, size=None, repeat=None):\n",
    "        #r=pm.Uniform.dist(lower=self.lower,upper=self.upper)\n",
    "       \n",
    "        #return r.random(size=size)\n",
    "        \n",
    "        \n",
    "        \n",
    "        samples=tt.as_tensor_variable(floatX(size))\n",
    "        r=randsample(self.lower,self.upper,samples)\n",
    "        \n",
    "        return r\n",
    "    def logp(self, value):\n",
    "\n",
    "        return log_p(self.lower,self.upper,value)\n",
    "    \n",
    "    "
   ]
  },
  {
   "cell_type": "code",
   "execution_count": null,
   "metadata": {
    "collapsed": false,
    "nbpresent": {
     "id": "13e57f8c-42ab-44b1-8408-77bf2734cffe"
    }
   },
   "outputs": [],
   "source": [
    "from pymc3.step_methods import smc\n",
    "from tempfile import mkdtemp\n",
    "from scipy import optimize\n",
    "\n",
    "theano.config.floatX = 'float64'\n",
    "basic_model = pm.Model()\n",
    "n_steps = 20 # Number of MCMC steps for each particle\n",
    "n_chains = 100 # Number of particles (chains)\n",
    "\n",
    "with basic_model:\n",
    "\n",
    "    # Priors for unknown model parameters\n",
    "    \n",
    "    \n",
    "    #a = pm.Gamma('a', alpha=2,beta=1, transform=None)\n",
    "    #b = pm.Normal('b', mu=0, sd=1)\n",
    "    #c = UnitMulti('c', lower=0, upper=10, transform=None, shape=3)\n",
    "    c = pm.Uniform('c', lower=0, upper=10, transform=None, shape=3)\n",
    "    sigma = pm.HalfNormal('sigma', sd=1)\n",
    "\n",
    "\n",
    "    # Forward model\n",
    "    \n",
    "    mu = Fitzhugh_ode_sol(c)\n",
    "    \n",
    "    # Likelihood (sampling distribution) of observations\n",
    "    cov=np.eye(2)*sigma**2\n",
    "    Y_obs = pm.MvNormal('Y_obs', mu=mu, cov=cov, observed=Y)\n",
    "\n",
    "    \n",
    "    test_folder = mkdtemp(prefix='SMC_TEST')\n",
    "    \n",
    "     # Initial points for each of the chains\n",
    "    #startsmc=[{'a':np.random.uniform(0,15,1),'b':np.random.uniform(0,15,1),\n",
    "    #        'c':np.random.uniform(2.5,3.5,1),'sigma':np.random.uniform(0,2)} for _ in range(n_chains)]\n",
    "    startsmc=[{'c':np.random.uniform(0.0,10.0,3),'sigma':np.random.uniform(0,2)} for _ in range(n_chains)]\n",
    "    \n",
    "    # Call SMC sampler\n",
    "    db = pm.backends.ndarray.NDArray('test')\n",
    "    trace = smc.sample_smc(n_steps=n_steps,n_chains=n_chains,progressbar=True,\n",
    "                          homepath=test_folder,stage=0,tune_interval=10,random_seed=20,trace=db)"
   ]
  },
  {
   "cell_type": "code",
   "execution_count": null,
   "metadata": {
    "collapsed": false
   },
   "outputs": [],
   "source": [
    "pm.backends.text.dump('test',trace)\n",
    "ltrace=pm.backends.text.load('test',basic_model)"
   ]
  },
  {
   "cell_type": "code",
   "execution_count": null,
   "metadata": {
    "collapsed": false
   },
   "outputs": [],
   "source": [
    "df=pm.trace_to_dataframe(ltrace)\n",
    "df.head()\n",
    "np.log(basic_model.marginal_likelihood)\n"
   ]
  },
  {
   "cell_type": "code",
   "execution_count": null,
   "metadata": {
    "collapsed": false
   },
   "outputs": [],
   "source": [
    "pooled_waic = pm.waic(trace, basic_model)"
   ]
  },
  {
   "cell_type": "code",
   "execution_count": null,
   "metadata": {
    "collapsed": false
   },
   "outputs": [],
   "source": [
    "np.array(pooled_waic)"
   ]
  },
  {
   "cell_type": "code",
   "execution_count": null,
   "metadata": {
    "collapsed": false
   },
   "outputs": [],
   "source": [
    "basic_model.logpt({'c':np.random.uniform(0.0,10.0,3),'sigma':np.random.uniform(0.2)})"
   ]
  },
  {
   "cell_type": "code",
   "execution_count": null,
   "metadata": {
    "collapsed": false
   },
   "outputs": [],
   "source": [
    "smc.proposal_dists.keys()"
   ]
  },
  {
   "cell_type": "markdown",
   "metadata": {
    "nbpresent": {
     "id": "83fff0ba-34b5-476c-858f-3776582643a6"
    }
   },
   "source": [
    "#  Visualise the posterior densities\n",
    "\n",
    "We inspect first the traceplots to see whether the chains are mixing well enough."
   ]
  },
  {
   "cell_type": "code",
   "execution_count": null,
   "metadata": {
    "collapsed": false,
    "nbpresent": {
     "id": "b9f47251-8ada-4f2b-8cc5-5277bc5b25a2"
    }
   },
   "outputs": [],
   "source": [
    "pm.traceplot(trace)"
   ]
  },
  {
   "cell_type": "markdown",
   "metadata": {
    "nbpresent": {
     "id": "37cda208-966e-4ecd-a505-71f0bfeaed81"
    }
   },
   "source": [
    "Nice visualisations support in-built"
   ]
  },
  {
   "cell_type": "code",
   "execution_count": null,
   "metadata": {
    "collapsed": false,
    "nbpresent": {
     "id": "ba454735-baf3-4abb-9265-4a96df21bf02"
    }
   },
   "outputs": [],
   "source": [
    "pm.plot_posterior(trace,color='LightSeaGreen')"
   ]
  },
  {
   "cell_type": "markdown",
   "metadata": {
    "nbpresent": {
     "id": "2e167322-79e2-4ecc-9409-7bf0f68d387b"
    }
   },
   "source": [
    "#  PyMC3 backend as Dataframes\n",
    "\n",
    "We can use PyMC3 backend object that represents the chain(s) and use some pandas magic"
   ]
  },
  {
   "cell_type": "code",
   "execution_count": null,
   "metadata": {
    "collapsed": false,
    "nbpresent": {
     "id": "d2d3b07b-5297-4e6d-b6b3-146371670ee8"
    }
   },
   "outputs": [],
   "source": [
    "import pandas as pd\n",
    "\n",
    "results=[pm.df_summary(trace, ['a']),pm.df_summary(trace, ['b']),pm.df_summary(trace, ['c'])\\\n",
    "        ,pm.df_summary(trace, ['sigma'])]\n",
    "results=pd.concat(results)\n",
    "\n",
    "results['True values'] = pd.Series(np.array([0.2,0.2,3.0,0.5]), index=results.index)\n",
    "results"
   ]
  },
  {
   "cell_type": "markdown",
   "metadata": {
    "nbpresent": {
     "id": "9f7db803-0f86-42bb-bbb8-96521063ee48"
    }
   },
   "source": [
    "#  Posterior predictive plots"
   ]
  },
  {
   "cell_type": "code",
   "execution_count": null,
   "metadata": {
    "collapsed": false,
    "nbpresent": {
     "id": "30f9462e-9e2b-4478-a1f0-edbe0f42b98f"
    }
   },
   "outputs": [],
   "source": [
    "params=np.array([trace.get_values('a'),trace.get_values('b'),trace.get_values('c')]).T\n",
    "params.shape"
   ]
  },
  {
   "cell_type": "code",
   "execution_count": null,
   "metadata": {
    "collapsed": false,
    "nbpresent": {
     "id": "828edb7d-ae48-43d2-b84e-5ef2c0aeb321"
    }
   },
   "outputs": [],
   "source": [
    "new_values = []\n",
    "for ind in range(len(params)):\n",
    "    ppc_sol=model_sol(params[ind])\n",
    "    new_values.append(ppc_sol)\n",
    "new_values = np.array(new_values)\n",
    "mean_values = np.mean(new_values, axis=0)\n",
    "new_values.shape\n",
    "plt.figure(figsize=(15, 7.5))\n",
    "plt.plot(times, new_values[0], color='yellow', alpha=0.05, label='inferred concentration')\n",
    "for v in new_values[1:]:\n",
    "    plt.plot(times, v, color='yellow', alpha=0.05)\n",
    "plt.plot(times, mean_values, color='black', lw=4, label='mean of inferred')\n",
    "plt.plot(times, sol, '--', color='#ff7f0e', lw=4, label='original concentration')\n",
    "plt.plot(times, Y, 'o', color='#7f7f7f', ms=6.5, label='data points')\n",
    "plt.legend()\n",
    "plt.xlabel('Time')\n",
    "plt.ylabel('concentration')\n"
   ]
  },
  {
   "cell_type": "markdown",
   "metadata": {
    "nbpresent": {
     "id": "ccb2c06a-4774-4a6d-9f02-3c8c8dc90bae"
    }
   },
   "source": [
    "#  Remember we get the marginal likelihood for free"
   ]
  },
  {
   "cell_type": "code",
   "execution_count": null,
   "metadata": {
    "collapsed": true
   },
   "outputs": [],
   "source": [
    "def beta_binom(prior, y):\n",
    "    \"\"\"\n",
    "    Compute the marginal likelihood, analytically, for a beta-binomial model.\n",
    "\n",
    "    prior : tuple\n",
    "        tuple of alpha and beta parameter for the prior (beta distribution)\n",
    "    y : array\n",
    "        array with \"1\" and \"0\" corresponding to the success and fails respectively\n",
    "    \"\"\"\n",
    "    alpha, beta = prior\n",
    "    h = np.sum(y)\n",
    "    n = len(y)\n",
    "    p_y = np.exp(betaln(alpha + h, beta+n-h) - betaln(alpha, beta))\n",
    "    return p_y"
   ]
  },
  {
   "cell_type": "code",
   "execution_count": 2,
   "metadata": {
    "collapsed": false
   },
   "outputs": [],
   "source": [
    "y = np.repeat([1, 0], [50, 50])  # 50 \"heads\" and 50 \"tails\"\n",
    "priors = ((1, 1), (30, 30))"
   ]
  },
  {
   "cell_type": "code",
   "execution_count": 3,
   "metadata": {
    "collapsed": false
   },
   "outputs": [
    {
     "name": "stderr",
     "output_type": "stream",
     "text": [
      "/home/sanosh/pymc3/pymc3/step_methods/smc.py:491: UserWarning: Warning: SMC is an experimental step method, and not yet recommended for use in PyMC3!\n",
      "  warnings.warn(EXPERIMENTAL_WARNING)\n",
      "/home/sanosh/pymc3/pymc3/step_methods/smc.py:118: UserWarning: Warning: SMC is an experimental step method, and not yet recommended for use in PyMC3!\n",
      "  warnings.warn(EXPERIMENTAL_WARNING)\n",
      "100%|██████████| 1000/1000 [00:00<00:00, 5888.49it/s]\n",
      "100%|██████████| 1000/1000 [00:02<00:00, 343.33it/s]\n",
      "100%|██████████| 1000/1000 [00:00<00:00, 2840.70it/s]\n",
      "100%|██████████| 1000/1000 [00:00<00:00, 1539.66it/s]\n",
      "100%|██████████| 1000/1000 [00:00<00:00, 6900.17it/s]\n",
      "100%|██████████| 1000/1000 [00:00<00:00, 1483.27it/s]\n"
     ]
    }
   ],
   "source": [
    "from pymc3.step_methods import smc\n",
    "from tempfile import mkdtemp\n",
    "from scipy import optimize\n",
    "import pymc3 as pm\n",
    "theano.config.floatX = 'float64'\n",
    "\n",
    "\n",
    "n_chains = 1000\n",
    "\n",
    "models = []\n",
    "traces = []\n",
    "for alpha, beta in priors:\n",
    "    test_folder = mkdtemp(prefix='SMC_TEST')\n",
    "    with pm.Model() as model:\n",
    "        a = pm.Beta('a', alpha, beta, transform=None)\n",
    "        yl = pm.Bernoulli('yl', a, observed=y)\n",
    "        trace = smc.sample_smc(samples=5000,n_chains=n_chains,progressbar=True,\n",
    "                        homepath=test_folder,stage=0,random_seed=21)\n",
    "        models.append(model)\n",
    "        traces.append(trace)"
   ]
  },
  {
   "cell_type": "code",
   "execution_count": 4,
   "metadata": {
    "collapsed": false
   },
   "outputs": [
    {
     "name": "stdout",
     "output_type": "stream",
     "text": [
      "5.0\n"
     ]
    }
   ],
   "source": [
    "BF_smc = models[1].marginal_likelihood / models[0].marginal_likelihood\n",
    "print(round(BF_smc))"
   ]
  },
  {
   "cell_type": "code",
   "execution_count": 5,
   "metadata": {
    "collapsed": false
   },
   "outputs": [
    {
     "name": "stdout",
     "output_type": "stream",
     "text": [
      "Running on PyMC3 v3.3\n"
     ]
    }
   ],
   "source": [
    "print('Running on PyMC3 v{}'.format(pm.__version__))"
   ]
  },
  {
   "cell_type": "code",
   "execution_count": null,
   "metadata": {
    "collapsed": true
   },
   "outputs": [],
   "source": []
  }
 ],
 "metadata": {
  "anaconda-cloud": {},
  "kernelspec": {
   "display_name": "Python 2",
   "language": "python",
   "name": "python2"
  },
  "language_info": {
   "codemirror_mode": {
    "name": "ipython",
    "version": 2
   },
   "file_extension": ".py",
   "mimetype": "text/x-python",
   "name": "python",
   "nbconvert_exporter": "python",
   "pygments_lexer": "ipython2",
   "version": "2.7.6"
  },
  "nbpresent": {
   "slides": {
    "144081f5-1ac5-4023-acdb-3bec52469ff4": {
     "id": "144081f5-1ac5-4023-acdb-3bec52469ff4",
     "prev": "29daae3a-0999-48a5-b3b4-0fe05369baa6",
     "regions": {
      "5bfa123f-28b6-49a0-88f2-cc168a3ebb8c": {
       "attrs": {
        "height": 0.8,
        "width": 0.8,
        "x": 0.1,
        "y": 0.1
       },
       "content": {
        "cell": "2e167322-79e2-4ecc-9409-7bf0f68d387b",
        "part": "whole"
       },
       "id": "5bfa123f-28b6-49a0-88f2-cc168a3ebb8c"
      }
     }
    },
    "29daae3a-0999-48a5-b3b4-0fe05369baa6": {
     "id": "29daae3a-0999-48a5-b3b4-0fe05369baa6",
     "prev": "eb4a7db2-59bd-4801-8bfc-52103bb95d14",
     "regions": {
      "a764ef21-5b18-4e9c-af4b-a1428aeb2111": {
       "attrs": {
        "height": 0.8,
        "width": 0.8,
        "x": 0.1,
        "y": 0.1
       },
       "content": {
        "cell": "ba454735-baf3-4abb-9265-4a96df21bf02",
        "part": "whole"
       },
       "id": "a764ef21-5b18-4e9c-af4b-a1428aeb2111"
      }
     }
    },
    "2e2e64ea-7aab-4b60-aad4-d20ebdccc45e": {
     "id": "2e2e64ea-7aab-4b60-aad4-d20ebdccc45e",
     "prev": "f79f0c8e-db22-4ef0-be10-e42910b9cf0f",
     "regions": {
      "08cf3db4-6a2b-4eff-a771-b8e8d36a4c28": {
       "attrs": {
        "height": 0.8,
        "width": 0.8,
        "x": 0.1,
        "y": 0.1
       },
       "content": {
        "cell": "f1b8d12a-ef98-4869-8f75-764d07d774fd",
        "part": "whole"
       },
       "id": "08cf3db4-6a2b-4eff-a771-b8e8d36a4c28"
      }
     }
    },
    "442860ba-fb3b-4553-8497-7e5f59b6c810": {
     "id": "442860ba-fb3b-4553-8497-7e5f59b6c810",
     "prev": "144081f5-1ac5-4023-acdb-3bec52469ff4",
     "regions": {
      "56c3dc4c-78ea-46b4-bb1c-6da1a8036cca": {
       "attrs": {
        "height": 0.8,
        "width": 0.8,
        "x": 0.1,
        "y": 0.1
       },
       "content": {
        "cell": "d2d3b07b-5297-4e6d-b6b3-146371670ee8",
        "part": "whole"
       },
       "id": "56c3dc4c-78ea-46b4-bb1c-6da1a8036cca"
      }
     }
    },
    "4bec42cc-e64c-4b12-a88f-4c25c69acdce": {
     "id": "4bec42cc-e64c-4b12-a88f-4c25c69acdce",
     "prev": "fba89e1c-e4c8-4a80-bae0-eeb89e69b959",
     "regions": {
      "ced46212-0034-4454-9ebb-b5254e2134b3": {
       "attrs": {
        "height": 0.8,
        "width": 0.8,
        "x": 0.1,
        "y": 0.1
       },
       "content": {
        "cell": "ccb2c06a-4774-4a6d-9f02-3c8c8dc90bae",
        "part": "whole"
       },
       "id": "ced46212-0034-4454-9ebb-b5254e2134b3"
      }
     }
    },
    "5560b6da-ab22-4cf1-9b0a-cdc223a5bede": {
     "id": "5560b6da-ab22-4cf1-9b0a-cdc223a5bede",
     "prev": "abf9c862-3592-42bb-bf10-9610c065c9a6",
     "regions": {
      "ecf2bd4a-d97b-4878-98bb-bf318903c2e0": {
       "attrs": {
        "height": 0.8,
        "width": 0.8,
        "x": 0.1,
        "y": 0.1
       },
       "content": {
        "cell": "e9bb1442-6c80-4c0e-a51a-c8056f86cfdc",
        "part": "whole"
       },
       "id": "ecf2bd4a-d97b-4878-98bb-bf318903c2e0"
      }
     }
    },
    "5575f1ec-b9ac-4490-a2fa-d49fbf383d77": {
     "id": "5575f1ec-b9ac-4490-a2fa-d49fbf383d77",
     "prev": "442860ba-fb3b-4553-8497-7e5f59b6c810",
     "regions": {
      "35f5a1ec-ba69-4e2b-a0e2-1d216236716d": {
       "attrs": {
        "height": 0.8,
        "width": 0.8,
        "x": 0.1,
        "y": 0.1
       },
       "content": {
        "cell": "9f7db803-0f86-42bb-bbb8-96521063ee48",
        "part": "whole"
       },
       "id": "35f5a1ec-ba69-4e2b-a0e2-1d216236716d"
      }
     }
    },
    "55bc2f08-aaa5-41ac-aa67-ac849fc53fb7": {
     "id": "55bc2f08-aaa5-41ac-aa67-ac849fc53fb7",
     "prev": "7248dbef-d232-4935-b9f1-dd24eb0719fe",
     "regions": {
      "c691b6e1-9776-4550-8c0d-a56ad4af9297": {
       "attrs": {
        "height": 0.8,
        "width": 0.8,
        "x": 0.1,
        "y": 0.1
       },
       "content": {
        "cell": "13e57f8c-42ab-44b1-8408-77bf2734cffe",
        "part": "whole"
       },
       "id": "c691b6e1-9776-4550-8c0d-a56ad4af9297"
      }
     }
    },
    "5b73b500-e0a9-4179-b149-75c013bb6b8f": {
     "id": "5b73b500-e0a9-4179-b149-75c013bb6b8f",
     "prev": "5560b6da-ab22-4cf1-9b0a-cdc223a5bede",
     "regions": {
      "beef9f4c-9c8f-4dc0-a057-259690f3067b": {
       "attrs": {
        "height": 0.8,
        "width": 0.8,
        "x": 0.1,
        "y": 0.1
       },
       "content": {
        "cell": "31966a2e-d810-4fce-ab2e-1d52720d4680",
        "part": "whole"
       },
       "id": "beef9f4c-9c8f-4dc0-a057-259690f3067b"
      }
     }
    },
    "62b77360-50ab-4ffc-b404-b8f2f3c9918b": {
     "id": "62b77360-50ab-4ffc-b404-b8f2f3c9918b",
     "prev": "5b73b500-e0a9-4179-b149-75c013bb6b8f",
     "regions": {
      "9aebb1a5-ef9a-41cc-9906-e9eaa776ca90": {
       "attrs": {
        "height": 0.8,
        "width": 0.8,
        "x": 0.1,
        "y": 0.1
       },
       "content": {
        "cell": "767edfc9-440c-4e99-82e3-a54b146e70ef",
        "part": "whole"
       },
       "id": "9aebb1a5-ef9a-41cc-9906-e9eaa776ca90"
      }
     }
    },
    "7248dbef-d232-4935-b9f1-dd24eb0719fe": {
     "id": "7248dbef-d232-4935-b9f1-dd24eb0719fe",
     "prev": "da044a6f-8f0e-4b4b-8722-1fc4cc62d72d",
     "regions": {
      "f45dc528-715d-439b-93d3-a0a55e61e000": {
       "attrs": {
        "height": 0.8,
        "width": 0.8,
        "x": 0.1,
        "y": 0.1
       },
       "content": {
        "cell": "edeeb07c-1714-4853-94da-1b7e240bea18",
        "part": "whole"
       },
       "id": "f45dc528-715d-439b-93d3-a0a55e61e000"
      }
     }
    },
    "844db4b4-8a4b-4068-bbb6-7e79155de2c4": {
     "id": "844db4b4-8a4b-4068-bbb6-7e79155de2c4",
     "prev": "5575f1ec-b9ac-4490-a2fa-d49fbf383d77",
     "regions": {
      "fd3b3319-6341-47ad-8867-b258b8223f44": {
       "attrs": {
        "height": 0.8,
        "width": 0.8,
        "x": 0.1,
        "y": 0.1
       },
       "content": {
        "cell": "30f9462e-9e2b-4478-a1f0-edbe0f42b98f",
        "part": "whole"
       },
       "id": "fd3b3319-6341-47ad-8867-b258b8223f44"
      }
     }
    },
    "a0df492f-e59d-45e9-acf3-684eb976029d": {
     "id": "a0df492f-e59d-45e9-acf3-684eb976029d",
     "prev": "bf126626-259f-4b4e-840e-5b4903cbe2d6",
     "regions": {
      "9712d212-f3b2-4d1a-b76f-377cb7a42f1f": {
       "attrs": {
        "height": 0.8,
        "width": 0.8,
        "x": 0.1,
        "y": 0.1
       },
       "content": {
        "cell": "b9f47251-8ada-4f2b-8cc5-5277bc5b25a2",
        "part": "whole"
       },
       "id": "9712d212-f3b2-4d1a-b76f-377cb7a42f1f"
      }
     }
    },
    "abf9c862-3592-42bb-bf10-9610c065c9a6": {
     "id": "abf9c862-3592-42bb-bf10-9610c065c9a6",
     "prev": null,
     "regions": {
      "90fd0216-6ee0-4b70-9415-c0fb191202f1": {
       "attrs": {
        "height": 0.8,
        "width": 0.8,
        "x": 0.1,
        "y": 0.1
       },
       "content": {
        "cell": "c4994e37-82e1-411e-a9b3-e4b3adc6d150",
        "part": "whole"
       },
       "id": "90fd0216-6ee0-4b70-9415-c0fb191202f1"
      }
     }
    },
    "b9bc20d1-84e0-491e-97f9-1a66b6c4c24e": {
     "id": "b9bc20d1-84e0-491e-97f9-1a66b6c4c24e",
     "prev": "4bec42cc-e64c-4b12-a88f-4c25c69acdce",
     "regions": {
      "0e343c4b-df7f-4ab9-8fa0-02e91f747b75": {
       "attrs": {
        "height": 0.8,
        "width": 0.8,
        "x": 0.1,
        "y": 0.1
       },
       "content": {
        "cell": "ab5dbe33-6370-412a-b163-ee71fce1cd4f",
        "part": "whole"
       },
       "id": "0e343c4b-df7f-4ab9-8fa0-02e91f747b75"
      }
     }
    },
    "bf126626-259f-4b4e-840e-5b4903cbe2d6": {
     "id": "bf126626-259f-4b4e-840e-5b4903cbe2d6",
     "prev": "55bc2f08-aaa5-41ac-aa67-ac849fc53fb7",
     "regions": {
      "cb0ace47-0d58-48f8-8607-6a8d6a2088cc": {
       "attrs": {
        "height": 0.8,
        "width": 0.8,
        "x": 0.1,
        "y": 0.1
       },
       "content": {
        "cell": "83fff0ba-34b5-476c-858f-3776582643a6",
        "part": "whole"
       },
       "id": "cb0ace47-0d58-48f8-8607-6a8d6a2088cc"
      }
     }
    },
    "cfcb4c0b-792c-43e7-aacc-36d9f5cf8bd2": {
     "id": "cfcb4c0b-792c-43e7-aacc-36d9f5cf8bd2",
     "prev": "b9bc20d1-84e0-491e-97f9-1a66b6c4c24e",
     "regions": {
      "afa446ff-6d55-4dbb-aa8f-057197f8a046": {
       "attrs": {
        "height": 0.8,
        "width": 0.8,
        "x": 0.1,
        "y": 0.1
       },
       "content": {
        "cell": "4f736ca9-7f79-4d9f-a792-4a1a6a5bad51",
        "part": "whole"
       },
       "id": "afa446ff-6d55-4dbb-aa8f-057197f8a046"
      }
     }
    },
    "da044a6f-8f0e-4b4b-8722-1fc4cc62d72d": {
     "id": "da044a6f-8f0e-4b4b-8722-1fc4cc62d72d",
     "prev": "2e2e64ea-7aab-4b60-aad4-d20ebdccc45e",
     "regions": {
      "4ac6048b-99a0-4904-9cc7-08c794e208db": {
       "attrs": {
        "height": 0.8,
        "width": 0.8,
        "x": 0.1,
        "y": 0.1
       },
       "content": {
        "cell": "110c285c-2990-4216-af81-d7022cd6c408",
        "part": "whole"
       },
       "id": "4ac6048b-99a0-4904-9cc7-08c794e208db"
      }
     }
    },
    "eb4a7db2-59bd-4801-8bfc-52103bb95d14": {
     "id": "eb4a7db2-59bd-4801-8bfc-52103bb95d14",
     "prev": "a0df492f-e59d-45e9-acf3-684eb976029d",
     "regions": {
      "d8a9f96f-2c9f-402a-8a0a-fd8120110340": {
       "attrs": {
        "height": 0.8,
        "width": 0.8,
        "x": 0.1,
        "y": 0.1
       },
       "content": {
        "cell": "37cda208-966e-4ecd-a505-71f0bfeaed81",
        "part": "whole"
       },
       "id": "d8a9f96f-2c9f-402a-8a0a-fd8120110340"
      }
     }
    },
    "f79f0c8e-db22-4ef0-be10-e42910b9cf0f": {
     "id": "f79f0c8e-db22-4ef0-be10-e42910b9cf0f",
     "prev": "62b77360-50ab-4ffc-b404-b8f2f3c9918b",
     "regions": {
      "c77e2cf7-3258-472b-83f3-687205bddcbc": {
       "attrs": {
        "height": 0.8,
        "width": 0.8,
        "x": 0.1,
        "y": 0.1
       },
       "content": {
        "cell": "ee4546cc-3955-42ed-988b-7f9336a34b78",
        "part": "whole"
       },
       "id": "c77e2cf7-3258-472b-83f3-687205bddcbc"
      }
     }
    },
    "fba89e1c-e4c8-4a80-bae0-eeb89e69b959": {
     "id": "fba89e1c-e4c8-4a80-bae0-eeb89e69b959",
     "prev": "844db4b4-8a4b-4068-bbb6-7e79155de2c4",
     "regions": {
      "61d6e5e1-31cb-44e7-a4b7-88b8af0bf50d": {
       "attrs": {
        "height": 0.8,
        "width": 0.8,
        "x": 0.1,
        "y": 0.1
       },
       "content": {
        "cell": "828edb7d-ae48-43d2-b84e-5ef2c0aeb321",
        "part": "whole"
       },
       "id": "61d6e5e1-31cb-44e7-a4b7-88b8af0bf50d"
      }
     }
    }
   },
   "themes": {}
  }
 },
 "nbformat": 4,
 "nbformat_minor": 1
}
